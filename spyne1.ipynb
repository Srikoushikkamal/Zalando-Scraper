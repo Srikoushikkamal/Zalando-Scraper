{
 "cells": [
  {
   "cell_type": "code",
   "execution_count": 6,
   "metadata": {},
   "outputs": [],
   "source": [
    "from bs4 import BeautifulSoup as bs\n",
    "import requests\n",
    "import csv"
   ]
  },
  {
   "cell_type": "code",
   "execution_count": 5,
   "metadata": {},
   "outputs": [],
   "source": [
    "url='https://www.zalando.co.uk/womens-clothing-tops/'"
   ]
  },
  {
   "cell_type": "code",
   "execution_count": 6,
   "metadata": {},
   "outputs": [],
   "source": [
    " head = {\n",
    "            'User-Agent': 'Mozilla/5.0 (X11; Linux x86_64) AppleWebKit/537.36 (KHTML, like Gecko) Chrome/89.0.4389.114 Safari/537.36' \n",
    "        }"
   ]
  },
  {
   "cell_type": "code",
   "execution_count": 7,
   "metadata": {},
   "outputs": [],
   "source": [
    "all_prod=[]"
   ]
  },
  {
   "cell_type": "code",
   "execution_count": null,
   "metadata": {},
   "outputs": [],
   "source": [
    "for x in range(1,203):\n",
    "    req = requests.get('https://www.zalando.co.uk/womens-clothing-tops/?p={x}', headers = head)\n",
    "    soup = bs(req.content,'html.parser')\n",
    "    Page_list=soup.find_all('div',class_=\"qMZa55 SQGpu8 iOzucJ JT3_zV DvypSJ\")\n",
    "    for prod in Page_list:\n",
    "        for link in prod.find_all('a',href=True):\n",
    "            x=url+link['href']\n",
    "            if(x not in all_prod):\n",
    "                all_prod.append(x)\n",
    "                print(x)"
   ]
  },
  {
   "cell_type": "code",
   "execution_count": 4,
   "metadata": {},
   "outputs": [],
   "source": [
    "all_prod"
   ]
  },
  {
   "cell_type": "code",
   "execution_count": null,
   "metadata": {},
   "outputs": [],
   "source": [
    "file=open(\"/home/skk/Desktop/Zalando-Details\",\"w\") # USE YOUR LOCALPATH\n",
    "writer=csv.writer(file)\n",
    "writer.writerow([\"Product\",\"Brand\",\"Price\"])"
   ]
  },
  {
   "cell_type": "code",
   "execution_count": null,
   "metadata": {},
   "outputs": [],
   "source": [
    "for j in all_prod:\n",
    "    #print(j)\n",
    "    req1 = requests.get(j)\n",
    "    soupp=bs(req1.content,'html.parser')\n",
    "    Name1=soupp.find('h1',class_=\"OEhtt9 ka2E9k uMhVZi z-oVg8 pVrzNP w5w9i_ _1PY7tW _9YcI4f\")\n",
    "    Brand1=soupp.find('h3',class_=\"OEhtt9 ka2E9k uMhVZi uc9Eq5 pVrzNP _5Yd-hZ\")\n",
    "    Price1=soupp.find('span', class_=\"uqkIZw ka2E9k uMhVZi FxZV-M z-oVg8 pVrzNP\")\n",
    "    Review1=soupp.find('span' ,class_=\"AKpsL5 ka2E9k uMhVZi uc9Eq5 pVrzNP\")\n",
    "    #print(soupp)\n",
    "    if Name1 is not None:\n",
    "        Name = Name1.get_text()\n",
    "    if Brand1 is not None:\n",
    "        Brand= Brand1.get_text()\n",
    "    if Price1 is not None:\n",
    "        Price= Price1.get_text()\n",
    "    data=[]\n",
    "    data.append(Name)\n",
    "    data.append(Brand)\n",
    "    data.append(Price)\n",
    "    writer.writerow(data)"
   ]
  }
 ],
 "metadata": {
  "kernelspec": {
   "display_name": "Python 3",
   "language": "python",
   "name": "python3"
  },
  "language_info": {
   "codemirror_mode": {
    "name": "ipython",
    "version": 3
   },
   "file_extension": ".py",
   "mimetype": "text/x-python",
   "name": "python",
   "nbconvert_exporter": "python",
   "pygments_lexer": "ipython3",
   "version": "3.8.5"
  }
 },
 "nbformat": 4,
 "nbformat_minor": 4
}
